{
 "cells": [
  {
   "cell_type": "code",
   "execution_count": 1,
   "metadata": {},
   "outputs": [
    {
     "data": {
      "text/plain": [
       "True"
      ]
     },
     "execution_count": 1,
     "metadata": {},
     "output_type": "execute_result"
    }
   ],
   "source": [
    "import subprocess\n",
    "import json\n",
    "import os\n",
    "\n",
    "from web3 import Web3   #Python Ethereum library\n",
    "from bit import *  #Python Bitcoin library\n",
    "from bit.network import NetworkAPI\n",
    "from eth_account import Account #ethereum Account\n",
    "from constants import *\n",
    "from dotenv import load_dotenv\n",
    "from pathlib import Path\n",
    "\n",
    "load_dotenv()"
   ]
  },
  {
   "cell_type": "code",
   "execution_count": 2,
   "metadata": {},
   "outputs": [
    {
     "data": {
      "text/plain": [
       "False"
      ]
     },
     "execution_count": 2,
     "metadata": {},
     "output_type": "execute_result"
    }
   ],
   "source": [
    "#w3 provider\n",
    "w3 = Web3(Web3.HTTPProvider(\"http://127.0.0.1:8545\"))\n",
    "\n",
    "#Add the following middlewareto web3.py to support the PoA algorithm:\n",
    "from web3.middleware import geth_poa_middleware\n",
    "w3.middleware_onion.inject(geth_poa_middleware, layer=0)\n",
    "\n",
    "#get mnemonic from .env\n",
    "mnemonic = os.getenv(\"MNEMONIC_KEY\", 'insert mnemonic here')\n",
    "\n",
    "w3.isConnected()"
   ]
  },
  {
   "cell_type": "code",
   "execution_count": 3,
   "metadata": {},
   "outputs": [
    {
     "name": "stdout",
     "output_type": "stream",
     "text": [
      "<class 'str'>\n"
     ]
    }
   ],
   "source": [
    "print(type(mnemonic))"
   ]
  },
  {
   "cell_type": "code",
   "execution_count": 5,
   "metadata": {},
   "outputs": [],
   "source": [
    "#functions\n",
    "\n",
    "# derive wallets function that uses hd-wallet-derfie tool\n",
    "def derive_wallets(mnemonic, coin, numderive):\n",
    "    command = 'php ./derive -g --mnemonic=\"' + mnemonic + '\" --numderive=\"' + str(numderive) + '\" --cols=path,address,privkey,pubkey --coin=\"' + coin + '\" --format=jsonpretty'\n",
    "    p = subprocess.Popen(command, stdout=subprocess.PIPE, shell=True)\n",
    "    output, err = p.communicate()\n",
    "    p_status = p.wait()\n",
    "\n",
    "    return json.loads(output)\n",
    "\n",
    "# private key to accound function\n",
    "def priv_key_to_account (coin, priv_key):\n",
    "    if coin == ETH:\n",
    "        return Account.privateKeyToAccount(priv_key)\n",
    "    if coin == BTCTEST:\n",
    "        return PrivateKeyTestnet(priv_key)\n",
    "\n",
    "# create transaction function\n",
    "def create_tx(coin, account, recipient, amount):\n",
    "    if coin == ETH:\n",
    "        gasEstimate = w3.eth.estimateGas(\n",
    "            {\"from\": account.address, \"to\": recipient, \"value\": amount}\n",
    "        )\n",
    "        return {\n",
    "            \"from\": account.address,   # DOUBLE CHECK THAT ACCOUNT.ADDRESS MAKES SENSE???\n",
    "            \"to\": recipient,\n",
    "            \"value\": amount,\n",
    "            \"gasPrice\": w3.eth.gasPrice,\n",
    "            \"gas\": gasEstimate,\n",
    "            \"nonce\": w3.eth.getTransactionCount(account.address),\n",
    "            #AND CHAIN ID???\n",
    "        }\n",
    "\n",
    "    if coin == BTCTEST:\n",
    "        return PrivateKeyTestnet.prepare_transaction(account.address, [(recipient, amount, BTC)])    #should be to or receipient??\n",
    "    \n",
    "# send transaction function\n",
    "def send_tx(coin, account, recipient, amount):\n",
    "    if coin == ETH:\n",
    "        raw_tx  = create_tx(coin, account, recipient, amount)\n",
    "        signed_tx = account.sign_transaction(raw_tx)\n",
    "        result = w3.eth.sendRawTransaction(signed_tx.rawTransaction)\n",
    "        print(result.hex())\n",
    "        return result.hex()\n",
    "    else:\n",
    "        raw_tx  = create_tx(coin,account,recipient,amount)\n",
    "        signed_tx = account.sign_transaction(raw_tx)\n",
    "        result = NetworkAPI.broadcast_tx_testnet(signed_tx)     \n",
    "        print(result)  \n",
    "        return result        \n"
   ]
  },
  {
   "cell_type": "code",
   "execution_count": 6,
   "metadata": {},
   "outputs": [],
   "source": [
    "coins = {'eth':derive_wallets(mnemonic=mnemonic,coin=ETH,numderive=3),'btc-test': derive_wallets(mnemonic=mnemonic,coin=BTCTEST,numderive=3)}"
   ]
  },
  {
   "cell_type": "code",
   "execution_count": 7,
   "metadata": {},
   "outputs": [
    {
     "name": "stdout",
     "output_type": "stream",
     "text": [
      "{'eth': [{'path': \"m/44'/60'/0'/0/0\", 'address': '0x90A5B550676f20Ce18a90c8EBB277D82f7bd226a', 'privkey': '0xb9116b8ff6c4e538a84880fa5d8fec427551ecae8db59c3a18e76cf91e7bb75a', 'pubkey': '028b49c9e7f9263d14245adbddab1c2afb88ab237c59e039af6e9967303b4d55af'}, {'path': \"m/44'/60'/0'/0/1\", 'address': '0x2EbF330442eaFadB57bb7c1E970e9432B1ae8421', 'privkey': '0x69c7ddf5bccb1e536b3c3168e5ebf4d5f919a045793e45dedfd12393199090cd', 'pubkey': '0383c2e0cae4c312d780ff209b2e4d7c00041132d1fbb2ebbad946cdbb74e203b5'}, {'path': \"m/44'/60'/0'/0/2\", 'address': '0xfdDeD200d0A97dE9b394d58839F98596B1961D93', 'privkey': '0xd7873ea4df72bbcf742652352a9b6f993e73c6d29daa09e73847f12d639f44b5', 'pubkey': '03c92db949e80e2a7ea939c041c26d7d6c039bb2e3ecde25b77e00c2b052f2a853'}], 'btc-test': [{'path': \"m/44'/1'/0'/0/0\", 'address': 'mhNGadXRRE4nCUVSHDb6oywJsNEKHMfeVp', 'privkey': 'cU6U8DJqiCSQ191Chx1KnxCnLbCTmwC6joKfqZtHoZT59QxXy2mH', 'pubkey': '03fc8846e8aa50b3ee94cca225719eeb5f7249654f4d6210694500e7fce20ea4ea'}, {'path': \"m/44'/1'/0'/0/1\", 'address': 'mqCYCWs63421xgqvgiRj785kDK2p2GHBFa', 'privkey': 'cNGYcq2knF8wqBmR2YW8eKFNb7AK95FEYBbUfUN2g3EjxQKGBwgw', 'pubkey': '027fe0bf47c110ea5c9908ee0d08691a07b103baac1946d9e16e2c3bebcf30738c'}, {'path': \"m/44'/1'/0'/0/2\", 'address': 'mqtUeRhFXEyYgaZWxJwQRMtgL8g7Q8qZsT', 'privkey': 'cMk3m4SF3vuFf52EK42oGD6QMDQQZuw3tZudvtoy91t5QsT3PfVj', 'pubkey': '034ed96104570114ed96db28167e94431a7ff44731bcd6e33fd67a919e7f6ecac1'}]}\n"
     ]
    }
   ],
   "source": [
    "print(coins)"
   ]
  },
  {
   "cell_type": "code",
   "execution_count": 8,
   "metadata": {},
   "outputs": [],
   "source": [
    "# assign private keys from above to variables\n",
    "eth_privatekey = coins['eth'][0]['privkey']\n",
    "btc_privatekey = coins['btc-test'][0]['privkey']"
   ]
  },
  {
   "cell_type": "code",
   "execution_count": 9,
   "metadata": {},
   "outputs": [
    {
     "name": "stdout",
     "output_type": "stream",
     "text": [
      "0xb9116b8ff6c4e538a84880fa5d8fec427551ecae8db59c3a18e76cf91e7bb75a\n",
      "cU6U8DJqiCSQ191Chx1KnxCnLbCTmwC6joKfqZtHoZT59QxXy2mH\n"
     ]
    }
   ],
   "source": [
    "print(eth_privatekey)\n",
    "print(btc_privatekey)"
   ]
  },
  {
   "cell_type": "code",
   "execution_count": 10,
   "metadata": {},
   "outputs": [
    {
     "name": "stdout",
     "output_type": "stream",
     "text": [
      "<eth_account.signers.local.LocalAccount object at 0x0000020B10788BC8>\n",
      "<PrivateKeyTestnet: mhNGadXRRE4nCUVSHDb6oywJsNEKHMfeVp>\n"
     ]
    }
   ],
   "source": [
    "eth_account = priv_key_to_account(ETH,eth_privatekey)\n",
    "btc_account = priv_key_to_account(BTCTEST,btc_privatekey)\n",
    "\n",
    "print(eth_account)\n",
    "print(btc_account)"
   ]
  },
  {
   "cell_type": "code",
   "execution_count": 11,
   "metadata": {},
   "outputs": [],
   "source": [
    "#2NBw6PXYPrCYfyc1EKvkSgfrJ5N3PFyh7ts"
   ]
  },
  {
   "cell_type": "code",
   "execution_count": 12,
   "metadata": {},
   "outputs": [
    {
     "ename": "AttributeError",
     "evalue": "'str' object has no attribute 'address'",
     "output_type": "error",
     "traceback": [
      "\u001b[1;31m---------------------------------------------------------------------------\u001b[0m",
      "\u001b[1;31mAttributeError\u001b[0m                            Traceback (most recent call last)",
      "\u001b[1;32m<ipython-input-12-de109c346f69>\u001b[0m in \u001b[0;36m<module>\u001b[1;34m\u001b[0m\n\u001b[1;32m----> 1\u001b[1;33m \u001b[0msend_tx\u001b[0m\u001b[1;33m(\u001b[0m\u001b[0mBTCTEST\u001b[0m\u001b[1;33m,\u001b[0m \u001b[1;34m'mhNGadXRRE4nCUVSHDb6oywJsNEKHMfeVp'\u001b[0m\u001b[1;33m,\u001b[0m \u001b[1;34m'2NBw6PXYPrCYfyc1EKvkSgfrJ5N3PFyh7ts'\u001b[0m\u001b[1;33m,\u001b[0m \u001b[1;36m.00588344\u001b[0m\u001b[1;33m)\u001b[0m\u001b[1;33m\u001b[0m\u001b[1;33m\u001b[0m\u001b[0m\n\u001b[0m",
      "\u001b[1;32m<ipython-input-5-f06d68bf8dfc>\u001b[0m in \u001b[0;36msend_tx\u001b[1;34m(coin, account, recipient, amount)\u001b[0m\n\u001b[0;32m     45\u001b[0m         \u001b[1;32mreturn\u001b[0m \u001b[0mresult\u001b[0m\u001b[1;33m.\u001b[0m\u001b[0mhex\u001b[0m\u001b[1;33m(\u001b[0m\u001b[1;33m)\u001b[0m\u001b[1;33m\u001b[0m\u001b[1;33m\u001b[0m\u001b[0m\n\u001b[0;32m     46\u001b[0m     \u001b[1;32melse\u001b[0m\u001b[1;33m:\u001b[0m\u001b[1;33m\u001b[0m\u001b[1;33m\u001b[0m\u001b[0m\n\u001b[1;32m---> 47\u001b[1;33m         \u001b[0mraw_tx\u001b[0m  \u001b[1;33m=\u001b[0m \u001b[0mcreate_tx\u001b[0m\u001b[1;33m(\u001b[0m\u001b[0mcoin\u001b[0m\u001b[1;33m,\u001b[0m\u001b[0maccount\u001b[0m\u001b[1;33m,\u001b[0m\u001b[0mrecipient\u001b[0m\u001b[1;33m,\u001b[0m\u001b[0mamount\u001b[0m\u001b[1;33m)\u001b[0m\u001b[1;33m\u001b[0m\u001b[1;33m\u001b[0m\u001b[0m\n\u001b[0m\u001b[0;32m     48\u001b[0m         \u001b[0msigned_tx\u001b[0m \u001b[1;33m=\u001b[0m \u001b[0maccount\u001b[0m\u001b[1;33m.\u001b[0m\u001b[0msign_transaction\u001b[0m\u001b[1;33m(\u001b[0m\u001b[0mraw_tx\u001b[0m\u001b[1;33m)\u001b[0m\u001b[1;33m\u001b[0m\u001b[1;33m\u001b[0m\u001b[0m\n\u001b[0;32m     49\u001b[0m         \u001b[0mresult\u001b[0m \u001b[1;33m=\u001b[0m \u001b[0mNetworkAPI\u001b[0m\u001b[1;33m.\u001b[0m\u001b[0mbroadcast_tx_testnet\u001b[0m\u001b[1;33m(\u001b[0m\u001b[0msigned_tx\u001b[0m\u001b[1;33m)\u001b[0m\u001b[1;33m\u001b[0m\u001b[1;33m\u001b[0m\u001b[0m\n",
      "\u001b[1;32m<ipython-input-5-f06d68bf8dfc>\u001b[0m in \u001b[0;36mcreate_tx\u001b[1;34m(coin, account, recipient, amount)\u001b[0m\n\u001b[0;32m     34\u001b[0m \u001b[1;33m\u001b[0m\u001b[0m\n\u001b[0;32m     35\u001b[0m     \u001b[1;32mif\u001b[0m \u001b[0mcoin\u001b[0m \u001b[1;33m==\u001b[0m \u001b[0mBTCTEST\u001b[0m\u001b[1;33m:\u001b[0m\u001b[1;33m\u001b[0m\u001b[1;33m\u001b[0m\u001b[0m\n\u001b[1;32m---> 36\u001b[1;33m         \u001b[1;32mreturn\u001b[0m \u001b[0mPrivateKeyTestnet\u001b[0m\u001b[1;33m.\u001b[0m\u001b[0mprepare_transaction\u001b[0m\u001b[1;33m(\u001b[0m\u001b[0maccount\u001b[0m\u001b[1;33m.\u001b[0m\u001b[0maddress\u001b[0m\u001b[1;33m,\u001b[0m \u001b[1;33m[\u001b[0m\u001b[1;33m(\u001b[0m\u001b[0mrecipient\u001b[0m\u001b[1;33m,\u001b[0m \u001b[0mamount\u001b[0m\u001b[1;33m,\u001b[0m \u001b[0mBTC\u001b[0m\u001b[1;33m)\u001b[0m\u001b[1;33m]\u001b[0m\u001b[1;33m)\u001b[0m    \u001b[1;31m#should be to or receipient??\u001b[0m\u001b[1;33m\u001b[0m\u001b[1;33m\u001b[0m\u001b[0m\n\u001b[0m\u001b[0;32m     37\u001b[0m \u001b[1;33m\u001b[0m\u001b[0m\n\u001b[0;32m     38\u001b[0m \u001b[1;31m# send transaction function\u001b[0m\u001b[1;33m\u001b[0m\u001b[1;33m\u001b[0m\u001b[1;33m\u001b[0m\u001b[0m\n",
      "\u001b[1;31mAttributeError\u001b[0m: 'str' object has no attribute 'address'"
     ]
    }
   ],
   "source": [
    "send_tx(BTCTEST, 'mhNGadXRRE4nCUVSHDb6oywJsNEKHMfeVp', '2NBw6PXYPrCYfyc1EKvkSgfrJ5N3PFyh7ts', .00588344)"
   ]
  },
  {
   "cell_type": "code",
   "execution_count": null,
   "metadata": {},
   "outputs": [],
   "source": []
  }
 ],
 "metadata": {
  "kernelspec": {
   "display_name": "Python 3",
   "language": "python",
   "name": "python3"
  },
  "language_info": {
   "codemirror_mode": {
    "name": "ipython",
    "version": 3
   },
   "file_extension": ".py",
   "mimetype": "text/x-python",
   "name": "python",
   "nbconvert_exporter": "python",
   "pygments_lexer": "ipython3",
   "version": "3.7.9"
  }
 },
 "nbformat": 4,
 "nbformat_minor": 4
}
